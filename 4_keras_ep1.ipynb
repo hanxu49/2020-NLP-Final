{
  "nbformat": 4,
  "nbformat_minor": 0,
  "metadata": {
    "colab": {
      "name": "4_keras_ep1",
      "provenance": [],
      "collapsed_sections": [],
      "include_colab_link": true
    },
    "kernelspec": {
      "name": "python3",
      "display_name": "Python 3"
    },
    "accelerator": "GPU",
    "kernel_info": {
      "name": "python3"
    },
    "language_info": {
      "name": "python",
      "version": "3.7.0",
      "mimetype": "text/x-python",
      "codemirror_mode": {
        "name": "ipython",
        "version": 3
      },
      "pygments_lexer": "ipython3",
      "nbconvert_exporter": "python",
      "file_extension": ".py"
    },
    "nteract": {
      "version": "0.12.3"
    }
  },
  "cells": [
    {
      "cell_type": "markdown",
      "metadata": {
        "id": "view-in-github",
        "colab_type": "text"
      },
      "source": [
        "<a href=\"https://colab.research.google.com/github/hanxu49/2020-NLP-Final/blob/master/4_keras_ep1.ipynb\" target=\"_parent\"><img src=\"https://colab.research.google.com/assets/colab-badge.svg\" alt=\"Open In Colab\"/></a>"
      ]
    },
    {
      "cell_type": "code",
      "metadata": {
        "id": "Lf7eH8JQEXkq"
      },
      "source": [
        "from google.colab import drive\n",
        "drive.mount('/content/drive')\n",
        "%cd /content/drive/\"My Drive\"/Design"
      ],
      "execution_count": null,
      "outputs": []
    },
    {
      "cell_type": "markdown",
      "metadata": {
        "id": "U80DFHQBLXEh"
      },
      "source": [
        "#### **数据预处理** "
      ]
    },
    {
      "cell_type": "code",
      "metadata": {
        "id": "68JkPB8NbKzX",
        "colab": {
          "base_uri": "https://localhost:8080/",
          "height": 197
        },
        "outputId": "57f2c999-5f2f-4b49-f897-414eeccc8498"
      },
      "source": [
        "import pandas as pd\n",
        "df = pd.read_csv('./data/rumor.text_seg.pos_tags.csv',encoding=\"gb18030\",index_col=0)\n",
        "df = df.dropna(axis=0,how='any')\n",
        "print(df.shape)\n",
        "df.head(2)"
      ],
      "execution_count": null,
      "outputs": [
        {
          "output_type": "stream",
          "text": [
            "(9066, 5)\n"
          ],
          "name": "stdout"
        },
        {
          "output_type": "execute_result",
          "data": {
            "text/html": [
              "<div>\n",
              "<style scoped>\n",
              "    .dataframe tbody tr th:only-of-type {\n",
              "        vertical-align: middle;\n",
              "    }\n",
              "\n",
              "    .dataframe tbody tr th {\n",
              "        vertical-align: top;\n",
              "    }\n",
              "\n",
              "    .dataframe thead th {\n",
              "        text-align: right;\n",
              "    }\n",
              "</style>\n",
              "<table border=\"1\" class=\"dataframe\">\n",
              "  <thead>\n",
              "    <tr style=\"text-align: right;\">\n",
              "      <th></th>\n",
              "      <th>title</th>\n",
              "      <th>content</th>\n",
              "      <th>type</th>\n",
              "      <th>text</th>\n",
              "      <th>text_cut</th>\n",
              "    </tr>\n",
              "  </thead>\n",
              "  <tbody>\n",
              "    <tr>\n",
              "      <th>0</th>\n",
              "      <td>辟谣 | 温岭大溪从武汉回来一千多人，被公安局全抓走？ 造谣者已被拘留！</td>\n",
              "      <td>1月24日，台州网警工作发现有网民在微信群称：“大溪从武汉回来一千多人，被...</td>\n",
              "      <td>1</td>\n",
              "      <td>辟谣 | 温岭大溪从武汉回来一千多人，被公安局全抓走？ 造谣者已被拘留！         1...</td>\n",
              "      <td>辟谣/nr |/x 温岭/ns 大溪/ns 从/p 武汉/ns 回来/v 一千多/m 人/n...</td>\n",
              "    </tr>\n",
              "    <tr>\n",
              "      <th>1</th>\n",
              "      <td>陇南全市红灯？不存在的！</td>\n",
              "      <td>近日，陇南不少微信群都在转发一则内容为“……通知，市县各城区内，于今日凌晨...</td>\n",
              "      <td>1</td>\n",
              "      <td>陇南全市红灯？不存在的！         近日，陇南不少微信群都在转发一则内容为“……通知，...</td>\n",
              "      <td>陇南/ns 全市/n 红灯/n ？/x 不/d 存在/v 的/uj ！/x 近日/t ，/x...</td>\n",
              "    </tr>\n",
              "  </tbody>\n",
              "</table>\n",
              "</div>"
            ],
            "text/plain": [
              "                                  title  ...                                           text_cut\n",
              "0  辟谣 | 温岭大溪从武汉回来一千多人，被公安局全抓走？ 造谣者已被拘留！  ...  辟谣/nr |/x 温岭/ns 大溪/ns 从/p 武汉/ns 回来/v 一千多/m 人/n...\n",
              "1                          陇南全市红灯？不存在的！  ...  陇南/ns 全市/n 红灯/n ？/x 不/d 存在/v 的/uj ！/x 近日/t ，/x...\n",
              "\n",
              "[2 rows x 5 columns]"
            ]
          },
          "metadata": {
            "tags": []
          },
          "execution_count": 2
        }
      ]
    },
    {
      "cell_type": "code",
      "metadata": {
        "id": "c-2Ue0TifvTs",
        "colab": {
          "base_uri": "https://localhost:8080/",
          "height": 35
        },
        "outputId": "02eaa874-b753-409b-cbbc-20ac6f90b87b"
      },
      "source": [
        "labels= list(df.type)\n",
        "len(labels)"
      ],
      "execution_count": null,
      "outputs": [
        {
          "output_type": "execute_result",
          "data": {
            "text/plain": [
              "9066"
            ]
          },
          "metadata": {
            "tags": []
          },
          "execution_count": 3
        }
      ]
    },
    {
      "cell_type": "code",
      "metadata": {
        "id": "Jp1Lewrokxo0"
      },
      "source": [
        "lines = [line for line in df.text_cut]\n",
        "words = []  # 句子\n",
        "pos_tags = []  # 词性标记类型\n",
        "for line in lines:\n",
        "  sentence = line.split(',')[-1].strip()\n",
        "  # print(sentence)\n",
        "  words_tags = sentence.split(' ')\n",
        "  words_temp, tag_temp = [], []\n",
        "  # print(words_tags)\n",
        "  for item in words_tags:\n",
        "    # print(item)\n",
        "    word, tag = item.split('/')[0], item.split('/')[-1]\n",
        "    words_temp.append(word)\n",
        "    tag_temp.append(tag)\n",
        "  pos_tags.append(tag_temp)\n",
        "  words.append(words_temp)"
      ],
      "execution_count": null,
      "outputs": []
    },
    {
      "cell_type": "code",
      "metadata": {
        "id": "cFawsw8_nfHn",
        "colab": {
          "base_uri": "https://localhost:8080/",
          "height": 55
        },
        "outputId": "54d00697-70dd-486d-d43e-286285801671"
      },
      "source": [
        "# len(words)\n",
        "print(words[0:2])\n",
        "# words[0]"
      ],
      "execution_count": null,
      "outputs": [
        {
          "output_type": "stream",
          "text": [
            "[['辟谣', '|', '温岭', '大溪', '从', '武汉', '回来', '一千多', '人', '，', '被', '公安局', '全', '抓走', '？', '造谣', '者', '已', '被', '拘留', '！', '1', '月', '24', '日', '，', '台州', '网警', '工作', '发现', '有', '网民', '在', '微信', '群称', '：', '“', '大溪', '从', '武汉', '回来', '一千多', '人', '，', '被', '公安局', '全', '抓走', '，', '需', '隔离', '15', '天', '，', '政府', '包', '了', '10', '个', '宾馆', '。', '”', '台州', '网警', '迅速', '与', '属地', '核实', '。', '经', '核实', '，', '大溪镇', '并', '无', '此事', '，', '该', '网民', '言论', '...', '全文'], ['陇南', '全市', '红灯', '？', '不', '存在', '的', '！', '近日', '，', '陇南', '不少', '微', '信群', '都', '在', '转发', '一则', '内容', '为', '“', '…', '…', '通知', '，', '市县', '各', '城区', '内', '，', '于', '今日', '凌晨', '24', '后', '所有', '路口', '红绿灯', '，', '统一', '24', '小时', '改', '红灯', '，', '除', '特种', '车辆', '外', '，', '私家车', '闯', '一次', '6', '分', '200', '，', '禁止', '私家', '车辆', '出行', '，', '正常', '行驶', '，', '另行通知', '。', '（', '请', '大家', '踊', '...', '全文']]\n"
          ],
          "name": "stdout"
        }
      ]
    },
    {
      "cell_type": "code",
      "metadata": {
        "id": "7GdmvXw2rSru"
      },
      "source": [
        "import re\n",
        "pattern=\"[\\u4e00-\\u9fa5]+\" \n",
        "regex = re.compile(pattern)\n",
        "def cn_only(s): \n",
        "    result = regex.findall(s)\n",
        "    te = \"\".join([wd for wd in result])\n",
        "    return te"
      ],
      "execution_count": null,
      "outputs": []
    },
    {
      "cell_type": "code",
      "metadata": {
        "id": "-gYZaDGvP18g"
      },
      "source": [
        "char_lines = [line for line in df.text]\n",
        "chars = []\n",
        "for line in char_lines:\n",
        "  lst = []\n",
        "  line = cn_only(line)\n",
        "  for word in line:\n",
        "    if word:\n",
        "      lst.append(word)\n",
        "  chars.append(lst)"
      ],
      "execution_count": null,
      "outputs": []
    },
    {
      "cell_type": "code",
      "metadata": {
        "id": "Qz5ktHEiRg2f"
      },
      "source": [
        ""
      ],
      "execution_count": null,
      "outputs": []
    },
    {
      "cell_type": "markdown",
      "metadata": {
        "id": "xLHb73OjLAer"
      },
      "source": [
        "#### **句子长度**"
      ]
    },
    {
      "cell_type": "markdown",
      "metadata": {
        "id": "76uFHaH-RjS4"
      },
      "source": [
        "**word2vec**"
      ]
    },
    {
      "cell_type": "code",
      "metadata": {
        "id": "y34xSPslH3KP"
      },
      "source": [
        "import numpy as np\n",
        "import matplotlib.pyplot as plt\n",
        "len_stac = []\n",
        "for line in lines:\n",
        "  lst = line.split()\n",
        "  len_stac.append(len(lst))\n",
        "\n",
        "X = []\n",
        "Y = []\n",
        "for x,y in enumerate(len_stac):\n",
        "  X.append(x)\n",
        "  Y.append(y)"
      ],
      "execution_count": null,
      "outputs": []
    },
    {
      "cell_type": "code",
      "metadata": {
        "id": "7L8nXD1qKPLF",
        "colab": {
          "base_uri": "https://localhost:8080/",
          "height": 35
        },
        "outputId": "1657bd5f-26ff-4b21-9489-3c6e4b178b9e"
      },
      "source": [
        "np.mean(Y)\n",
        "len_stac[0]"
      ],
      "execution_count": null,
      "outputs": [
        {
          "output_type": "execute_result",
          "data": {
            "text/plain": [
              "82"
            ]
          },
          "metadata": {
            "tags": []
          },
          "execution_count": 123
        }
      ]
    },
    {
      "cell_type": "code",
      "metadata": {
        "id": "8JsMdu6-I8EE",
        "colab": {
          "base_uri": "https://localhost:8080/",
          "height": 313
        },
        "outputId": "4a9c0696-7493-497f-a4c2-2d029d6515c3"
      },
      "source": [
        "Y_mean = np.mean(Y)\n",
        "plt.plot(np.asarray(X[:1000]),np.asarray(Y[:1000]))\n",
        "plt.xlabel('Number of ')\n",
        "plt.ylabel('this is y')\n",
        "plt.title('this is a demo')\n",
        "plt.legend() # 将样例显示出来\n",
        "plt.axhline(y = np.mean(Y), color=\"red\")\n",
        "plt.show()"
      ],
      "execution_count": null,
      "outputs": [
        {
          "output_type": "stream",
          "text": [
            "No handles with labels found to put in legend.\n"
          ],
          "name": "stderr"
        },
        {
          "output_type": "display_data",
          "data": {
            "image/png": "[encoded data removed]",
            "text/plain": [
              "<Figure size 432x288 with 1 Axes>"
            ]
          },
          "metadata": {
            "tags": [],
            "needs_background": "light"
          }
        }
      ]
    },
    {
      "cell_type": "markdown",
      "metadata": {
        "id": "wDf2f_LZRa_s"
      },
      "source": [
        "**char2vec**"
      ]
    },
    {
      "cell_type": "code",
      "metadata": {
        "id": "RqrOvAweRzjD"
      },
      "source": [
        "import numpy as np\n",
        "import matplotlib.pyplot as plt\n",
        "len_stac = []\n",
        "for line in char_lines:\n",
        "  length = len(line)\n",
        "  len_stac.append(length)\n",
        "\n",
        "X = []\n",
        "Y = []\n",
        "for x,y in enumerate(len_stac):\n",
        "  X.append(x)\n",
        "  Y.append(y)"
      ],
      "execution_count": null,
      "outputs": []
    },
    {
      "cell_type": "code",
      "metadata": {
        "id": "df6V1kOcPKH0",
        "colab": {
          "base_uri": "https://localhost:8080/",
          "height": 35
        },
        "outputId": "9969c872-0d04-4297-d912-ed78ad1796ee"
      },
      "source": [
        "np.mean(Y)\n",
        "Y[0]"
      ],
      "execution_count": null,
      "outputs": [
        {
          "output_type": "execute_result",
          "data": {
            "text/plain": [
              "141"
            ]
          },
          "metadata": {
            "tags": []
          },
          "execution_count": 137
        }
      ]
    },
    {
      "cell_type": "code",
      "metadata": {
        "id": "tRH39XRNSS5F",
        "colab": {
          "base_uri": "https://localhost:8080/",
          "height": 265
        },
        "outputId": "6b388cac-5ba6-4fa3-a4ab-6213fb9631fd"
      },
      "source": [
        "Y_mean = np.mean(Y)\n",
        "plt.plot(np.asarray(X[:1000]),np.asarray(Y[:1000]))\n",
        "plt.axhline(y = np.mean(Y), color=\"red\")\n",
        "plt.show()"
      ],
      "execution_count": null,
      "outputs": [
        {
          "output_type": "display_data",
          "data": {
            "image/png": "[encoded data removed]",
            "text/plain": [
              "<Figure size 432x288 with 1 Axes>"
            ]
          },
          "metadata": {
            "tags": [],
            "needs_background": "light"
          }
        }
      ]
    },
    {
      "cell_type": "code",
      "metadata": {
        "id": "XmAEIvqHw5ek"
      },
      "source": [
        "import numpy as np\n",
        "import matplotlib.pyplot as plt\n",
        "from matplotlib.pyplot import MultipleLocator\n",
        "\n",
        "word_stac,char_stac = [],[]\n",
        "\n",
        "for wo,ch in zip(lines,char_lines):\n",
        "  lst1 = wo.split()\n",
        "  word_stac.append(len(lst1))\n",
        "  char_stac.append(len(ch))"
      ],
      "execution_count": null,
      "outputs": []
    },
    {
      "cell_type": "code",
      "metadata": {
        "id": "C06JSERQw5uc",
        "colab": {
          "base_uri": "https://localhost:8080/",
          "height": 295
        },
        "outputId": "241cd1a4-352d-4bb0-ece7-bb66fcb89334"
      },
      "source": [
        "plt.figure()\n",
        "plt.title(\"word_len/char_len\")\n",
        "plt.xlabel(\"Length\")\n",
        "plt.ylabel(\"Density\")\n",
        "_, _, word = plt.hist(word_stac, bins=250, alpha=.3,density=True,color='b')\n",
        "# plt.subplot(122)\n",
        "_, _, char = plt.hist(char_stac, bins=250, alpha=.3,density=True,color='r')\n",
        "\n",
        "x_major_locator=MultipleLocator(100)\n",
        "ax=plt.gca()\n",
        "ax.xaxis.set_major_locator(x_major_locator)\n",
        "plt.xlim(-2,1000)\n",
        "plt.legend([word[0], char[0]], ['word_length', 'char_length'], loc = 'best')\n",
        "plt.savefig(\"./photos/word_len-char_len.png\")\n",
        "plt.show()"
      ],
      "execution_count": null,
      "outputs": [
        {
          "output_type": "display_data",
          "data": {
            "image/png": "[encoded data removed]",
            "text/plain": [
              "<Figure size 432x288 with 1 Axes>"
            ]
          },
          "metadata": {
            "tags": [],
            "needs_background": "light"
          }
        }
      ]
    },
    {
      "cell_type": "markdown",
      "metadata": {
        "id": "E45zDE_r1yn0"
      },
      "source": [
        "#### **模型构建**"
      ]
    },
    {
      "cell_type": "code",
      "metadata": {
        "id": "C0Ir4hJEn0iR"
      },
      "source": [
        "import numpy as np\n",
        "from tensorflow.python.keras.preprocessing.text import Tokenizer\n",
        "from tensorflow.python.keras.preprocessing.sequence import pad_sequences"
      ],
      "execution_count": null,
      "outputs": []
    },
    {
      "cell_type": "code",
      "metadata": {
        "id": "WFsTI_StoDee"
      },
      "source": [
        "maxlen = 200\n",
        "maxlen_char = 300\n",
        "max_words = 15000\n",
        "validation_split = 0.16\n",
        "test_split = 0.2"
      ],
      "execution_count": null,
      "outputs": []
    },
    {
      "cell_type": "code",
      "metadata": {
        "id": "PK8Pk_avhE5J"
      },
      "source": [
        "corpus_word = words # words\n",
        "corpus_tag = pos_tags # pos_tags\n",
        "corpus_char = chars # chars"
      ],
      "execution_count": null,
      "outputs": []
    },
    {
      "cell_type": "code",
      "metadata": {
        "id": "YPfu4Sc4oE4O"
      },
      "source": [
        "tokenizer_word = Tokenizer(num_words=max_words)\n",
        "tokenizer_word.fit_on_texts(corpus_word)\n",
        "sequences_word = tokenizer_word.texts_to_sequences(corpus_word)\n",
        "\n",
        "tokenizer_tag = Tokenizer(num_words=max_words)\n",
        "tokenizer_tag.fit_on_texts(corpus_tag)\n",
        "sequences_tag = tokenizer_tag.texts_to_sequences(corpus_tag)\n",
        "\n",
        "tokenizer_char = Tokenizer(num_words=max_words)\n",
        "tokenizer_char.fit_on_texts(corpus_char)\n",
        "sequences_char = tokenizer_char.texts_to_sequences(corpus_char)"
      ],
      "execution_count": null,
      "outputs": []
    },
    {
      "cell_type": "code",
      "metadata": {
        "id": "VL4zIuPTTYBb",
        "colab": {
          "base_uri": "https://localhost:8080/",
          "height": 35
        },
        "outputId": "63064891-2053-4f37-930f-6ae703a35044"
      },
      "source": [
        "len(sequences_char[0])"
      ],
      "execution_count": null,
      "outputs": [
        {
          "output_type": "execute_result",
          "data": {
            "text/plain": [
              "104"
            ]
          },
          "metadata": {
            "tags": []
          },
          "execution_count": 37
        }
      ]
    },
    {
      "cell_type": "code",
      "metadata": {
        "id": "Y_j3kuru2gLP"
      },
      "source": [
        "data_word = pad_sequences(sequences_word, maxlen=maxlen)\n",
        "data_tag = pad_sequences(sequences_tag, maxlen=maxlen)\n",
        "data_char = pad_sequences(sequences_char, maxlen=maxlen_char)"
      ],
      "execution_count": null,
      "outputs": []
    },
    {
      "cell_type": "code",
      "metadata": {
        "id": "FycpjX4V1OTb",
        "colab": {
          "base_uri": "https://localhost:8080/",
          "height": 35
        },
        "outputId": "fe768507-6647-4695-de72-a0cbf436d86d"
      },
      "source": [
        "len(data_word)"
      ],
      "execution_count": null,
      "outputs": [
        {
          "output_type": "execute_result",
          "data": {
            "text/plain": [
              "9066"
            ]
          },
          "metadata": {
            "tags": []
          },
          "execution_count": 56
        }
      ]
    },
    {
      "cell_type": "code",
      "metadata": {
        "id": "FvbiBggvvYjs"
      },
      "source": [
        "word_index_word = tokenizer_word.word_index\n",
        "word_index_tag = tokenizer_tag.word_index\n",
        "word_index_char = tokenizer_char.word_index"
      ],
      "execution_count": null,
      "outputs": []
    },
    {
      "cell_type": "code",
      "metadata": {
        "id": "m-s7CO5NCirM"
      },
      "source": [
        "labels = np.array(labels)"
      ],
      "execution_count": null,
      "outputs": []
    },
    {
      "cell_type": "code",
      "metadata": {
        "id": "dr9aeSAh24ZB"
      },
      "source": [
        "#shuffle\n",
        "np.random.seed(100)\n",
        "indices = np.arange(data_word.shape[0])\n",
        "np.random.shuffle(indices)\n",
        "data_word = data_word[indices]\n",
        "data_tag = data_tag[indices]\n",
        "data_char = data_char[indices]\n",
        "data_index = data_word[indices]\n",
        "labels = labels[indices]"
      ],
      "execution_count": null,
      "outputs": []
    },
    {
      "cell_type": "code",
      "metadata": {
        "id": "sSh-FsrEYgq5",
        "colab": {
          "base_uri": "https://localhost:8080/",
          "height": 35
        },
        "outputId": "33eb5cb0-1c07-4275-fe8d-cf3882e59736"
      },
      "source": [
        "data_doc = [[item] for item in indices]\n",
        "data_doc = np.array(data_doc) \n",
        "len(data_doc)"
      ],
      "execution_count": null,
      "outputs": [
        {
          "output_type": "execute_result",
          "data": {
            "text/plain": [
              "9066"
            ]
          },
          "metadata": {
            "tags": []
          },
          "execution_count": 16
        }
      ]
    },
    {
      "cell_type": "code",
      "metadata": {
        "id": "d23YqpKSelQM"
      },
      "source": [
        "# data_in = sequences_word[:]"
      ],
      "execution_count": null,
      "outputs": []
    },
    {
      "cell_type": "code",
      "metadata": {
        "id": "O7lu6LTiF1_R",
        "colab": {
          "base_uri": "https://localhost:8080/",
          "height": 69
        },
        "outputId": "9eb83aed-5662-4278-e74b-a092553948cd"
      },
      "source": [
        "p1 = int(len(data_word)*(1-validation_split-test_split))\n",
        "p2 = int(len(data_word)*(1-test_split))\n",
        "\n",
        "x_train_w = data_word[:p1]\n",
        "y_train_w = labels[:p1]\n",
        "x_valid_w = data_word[p1:p2]\n",
        "y_valid_w = labels[p1:p2]\n",
        "x_test_w = data_word[p2:]\n",
        "y_test_w = labels[p2:]\n",
        "\n",
        "x_train_t = data_tag[:p1]\n",
        "y_train_t = labels[:p1]\n",
        "x_valid_t = data_tag[p1:p2]\n",
        "y_valid_t = labels[p1:p2]\n",
        "x_test_t = data_tag[p2:]\n",
        "y_test_t = labels[p2:]\n",
        "\n",
        "x_train_c = data_char[:p1]\n",
        "y_train_c = labels[:p1]\n",
        "x_valid_c = data_char[p1:p2]\n",
        "y_valid_c = labels[p1:p2]\n",
        "x_test_c = data_char[p2:]\n",
        "y_test_c = labels[p2:]\n",
        "\n",
        "x_train_d = data_doc[:p1]\n",
        "y_train_d = labels[:p1]\n",
        "x_valid_d = data_doc[p1:p2]\n",
        "y_valid_d = labels[p1:p2]\n",
        "x_test_d = data_doc[p2:]\n",
        "y_test_d = labels[p2:]\n",
        "\n",
        "x_train_i = data_index[:p1]\n",
        "y_train_i = labels[:p1]\n",
        "x_valid_i = data_index[p1:p2]\n",
        "y_valid_i = labels[p1:p2]\n",
        "x_test_i = data_index[p2:]\n",
        "y_test_i = labels[p2:]\n",
        "\n",
        "print ('train docs: ',str(len(x_train_w)),str(len(x_train_t)),str(len(x_train_c)))\n",
        "print ('val docs: ',str(len(x_valid_w)),str(len(x_valid_t)),str(len(x_valid_c)))\n",
        "print ('test docs:',str(len(x_test_w)),str(len(x_test_t)),str(len(x_test_c)))"
      ],
      "execution_count": null,
      "outputs": [
        {
          "output_type": "stream",
          "text": [
            "train docs:  5802 5802 5802\n",
            "val docs:  1450 1450 1450\n",
            "test docs: 1814 1814 1814\n"
          ],
          "name": "stdout"
        }
      ]
    },
    {
      "cell_type": "code",
      "metadata": {
        "id": "Npkc82LcBzkR",
        "colab": {
          "base_uri": "https://localhost:8080/",
          "height": 35
        },
        "outputId": "67e7bdc0-0f39-447d-bcca-d19973108efd"
      },
      "source": [
        "sum(y_train_i)\n",
        "# y_train_i.shape"
      ],
      "execution_count": null,
      "outputs": [
        {
          "output_type": "execute_result",
          "data": {
            "text/plain": [
              "2903"
            ]
          },
          "metadata": {
            "tags": []
          },
          "execution_count": 73
        }
      ]
    },
    {
      "cell_type": "code",
      "metadata": {
        "id": "tWV4rLt1qEBS"
      },
      "source": [
        "from gensim.models import KeyedVectors"
      ],
      "execution_count": null,
      "outputs": []
    },
    {
      "cell_type": "code",
      "metadata": {
        "id": "3BWQs3Bht6Xi",
        "colab": {
          "base_uri": "https://localhost:8080/",
          "height": 124
        },
        "outputId": "f397ee2c-ada4-45a2-b8d6-f6eedb18ac00"
      },
      "source": [
        "embed_word_model = KeyedVectors.load('./embedding/word2vec.vec')\n",
        "embed_word_dim = len(embed_word_model[next(iter(embed_word_model.wv.vocab))])\n",
        "embed_word_dim"
      ],
      "execution_count": null,
      "outputs": [
        {
          "output_type": "stream",
          "text": [
            "/usr/local/lib/python3.6/dist-packages/smart_open/smart_open_lib.py:253: UserWarning: This function is deprecated, use smart_open.open instead. See the migration notes for details: https://github.com/RaRe-Technologies/smart_open/blob/master/README.rst#migrating-to-the-new-open-function\n",
            "  'See the migration notes for details: %s' % _MIGRATION_NOTES_URL\n",
            "/usr/local/lib/python3.6/dist-packages/ipykernel_launcher.py:2: DeprecationWarning: Call to deprecated `__getitem__` (Method will be removed in 4.0.0, use self.wv.__getitem__() instead).\n",
            "  \n"
          ],
          "name": "stderr"
        },
        {
          "output_type": "execute_result",
          "data": {
            "text/plain": [
              "256"
            ]
          },
          "metadata": {
            "tags": []
          },
          "execution_count": 19
        }
      ]
    },
    {
      "cell_type": "code",
      "metadata": {
        "id": "q8bfl1P8VIBd",
        "colab": {
          "base_uri": "https://localhost:8080/",
          "height": 124
        },
        "outputId": "207d48b9-a59c-4d1a-96ba-77b45c4997ab"
      },
      "source": [
        "embed_char_model = KeyedVectors.load('./embedding/char2vec.vec')\n",
        "embed_char_dim = len(embed_char_model[next(iter(embed_char_model.wv.vocab))])\n",
        "embed_char_dim"
      ],
      "execution_count": null,
      "outputs": [
        {
          "output_type": "stream",
          "text": [
            "/usr/local/lib/python3.6/dist-packages/smart_open/smart_open_lib.py:253: UserWarning: This function is deprecated, use smart_open.open instead. See the migration notes for details: https://github.com/RaRe-Technologies/smart_open/blob/master/README.rst#migrating-to-the-new-open-function\n",
            "  'See the migration notes for details: %s' % _MIGRATION_NOTES_URL\n",
            "/usr/local/lib/python3.6/dist-packages/ipykernel_launcher.py:2: DeprecationWarning: Call to deprecated `__getitem__` (Method will be removed in 4.0.0, use self.wv.__getitem__() instead).\n",
            "  \n"
          ],
          "name": "stderr"
        },
        {
          "output_type": "execute_result",
          "data": {
            "text/plain": [
              "256"
            ]
          },
          "metadata": {
            "tags": []
          },
          "execution_count": 20
        }
      ]
    },
    {
      "cell_type": "code",
      "metadata": {
        "id": "Xp-ngPiaW3p2",
        "colab": {
          "base_uri": "https://localhost:8080/",
          "height": 89
        },
        "outputId": "c43f5340-694e-4a41-deda-7b9bb600c0b8"
      },
      "source": [
        "embed_doc_model = KeyedVectors.load('./embedding/doc2vec.vec')\n",
        "embed_doc_dim = len(embed_doc_model[next(iter(embed_doc_model.wv.vocab))])\n",
        "embed_doc_dim"
      ],
      "execution_count": null,
      "outputs": [
        {
          "output_type": "stream",
          "text": [
            "/usr/local/lib/python3.6/dist-packages/smart_open/smart_open_lib.py:253: UserWarning: This function is deprecated, use smart_open.open instead. See the migration notes for details: https://github.com/RaRe-Technologies/smart_open/blob/master/README.rst#migrating-to-the-new-open-function\n",
            "  'See the migration notes for details: %s' % _MIGRATION_NOTES_URL\n"
          ],
          "name": "stderr"
        },
        {
          "output_type": "execute_result",
          "data": {
            "text/plain": [
              "256"
            ]
          },
          "metadata": {
            "tags": []
          },
          "execution_count": 21
        }
      ]
    },
    {
      "cell_type": "code",
      "metadata": {
        "id": "YYZ4W-CpvbzZ",
        "colab": {
          "base_uri": "https://localhost:8080/",
          "height": 35
        },
        "outputId": "25b5968e-8c69-42a7-f502-1f65bd722aa3"
      },
      "source": [
        "embed_tag_dim = 256\n",
        "embedding_tag_matrix = np.random.rand(max_words, embed_tag_dim)\n",
        "embedding_tag_matrix.shape"
      ],
      "execution_count": null,
      "outputs": [
        {
          "output_type": "execute_result",
          "data": {
            "text/plain": [
              "(15000, 256)"
            ]
          },
          "metadata": {
            "tags": []
          },
          "execution_count": 22
        }
      ]
    },
    {
      "cell_type": "code",
      "metadata": {
        "id": "DzzT4n6UAfh6"
      },
      "source": [
        "embedding_word_matrix = np.random.rand(max_words, embed_word_dim)\n",
        "# embedding_matrix = (embedding_matrix - 0.5) * 2\n",
        "for word, i in word_index_word.items():\n",
        "    if i < max_words:\n",
        "        try:\n",
        "          embedding_word_vector = embed_word_model.get_vector(word)\n",
        "          embedding_word_matrix[i] = embedding_word_vector\n",
        "        except:\n",
        "          pass"
      ],
      "execution_count": null,
      "outputs": []
    },
    {
      "cell_type": "code",
      "metadata": {
        "id": "QV8xrN5XVh4i"
      },
      "source": [
        "embedding_char_matrix = np.random.rand(max_words, embed_char_dim)\n",
        "# embedding_matrix = (embedding_matrix - 0.5) * 2\n",
        "for word, i in word_index_char.items():\n",
        "    if i < max_words:\n",
        "        try:\n",
        "          embedding_char_vector = embed_char_model.get_vector(word)\n",
        "          embedding_char_matrix[i] = embedding_char_vector\n",
        "        except:\n",
        "          pass"
      ],
      "execution_count": null,
      "outputs": []
    },
    {
      "cell_type": "code",
      "metadata": {
        "id": "W44BUYI1cSBo"
      },
      "source": [
        "embedding_doc_matrix = np.random.rand(max_words, embed_doc_dim)\n",
        "# embedding_matrix = (embedding_matrix - 0.5) * 2\n",
        "for i in range(0,len(data_doc)):\n",
        "    if i < max_words:\n",
        "        try:\n",
        "          embedding_doc_vector = embed_doc_model.docvecs[i]\n",
        "          embedding_doc_matrix[i] = embedding_doc_vector\n",
        "        except:\n",
        "          pass"
      ],
      "execution_count": null,
      "outputs": []
    },
    {
      "cell_type": "code",
      "metadata": {
        "id": "uadTtIuaWmOl",
        "colab": {
          "base_uri": "https://localhost:8080/",
          "height": 35
        },
        "outputId": "832e819a-5ebf-4746-e1cf-c6501711e5ba"
      },
      "source": [
        "len(data_char[0])"
      ],
      "execution_count": null,
      "outputs": [
        {
          "output_type": "execute_result",
          "data": {
            "text/plain": [
              "300"
            ]
          },
          "metadata": {
            "tags": []
          },
          "execution_count": 71
        }
      ]
    },
    {
      "cell_type": "code",
      "metadata": {
        "id": "u4cexL9n9Cjq",
        "colab": {
          "base_uri": "https://localhost:8080/",
          "height": 35
        },
        "outputId": "d40a9a3b-334d-4b26-b5d5-0721d327331f"
      },
      "source": [
        "# Load the TensorBoard notebook extension.\n",
        "%load_ext tensorboard\n",
        "\n",
        "from __future__ import absolute_import\n",
        "from __future__ import division\n",
        "from __future__ import print_function\n",
        "\n",
        "from datetime import datetime\n",
        "from packaging import version\n",
        "\n",
        "import tensorflow as tf\n",
        "from tensorflow import keras\n",
        "\n",
        "print(\"TensorFlow version: \", tf.__version__)\n",
        "assert version.parse(tf.__version__).release[0] >= 2, \\\n",
        "    \"This notebook requires TensorFlow 2.0 or above.\"\n",
        "# Clear any logs from previous runs\n",
        "!rm -rf ./logs/ "
      ],
      "execution_count": null,
      "outputs": [
        {
          "output_type": "stream",
          "text": [
            "TensorFlow version:  2.2.0-rc3\n"
          ],
          "name": "stdout"
        }
      ]
    },
    {
      "cell_type": "markdown",
      "metadata": {
        "id": "-oSlPi_Nz7gw"
      },
      "source": [
        "**CNN**"
      ]
    },
    {
      "cell_type": "code",
      "metadata": {
        "id": "eIBSE6VW6S1U",
        "colab": {
          "base_uri": "https://localhost:8080/",
          "height": 69
        },
        "outputId": "ac7a1650-c13f-45f5-ae27-2a0829b1599d"
      },
      "source": [
        "# 模型结构：词嵌入-卷积池化-全连接---拼接-全连接\n",
        "from keras import regularizers\n",
        "from tensorflow.python.keras.layers import Embedding,GRU,BatchNormalization,Activation\n",
        "from tensorflow.python.keras.layers import Dense, Input, Flatten, Dropout, concatenate, LSTM, Bidirectional,Concatenate\n",
        "from tensorflow.python.keras.layers import Conv1D, Convolution1D, MaxPooling1D, Embedding, GlobalMaxPooling1D\n",
        "from tensorflow.python.keras.models import Sequential,Model\n",
        "\n",
        "import numpy as np\n",
        "np.random.seed(10)\n",
        "\n",
        "word_input = Input(shape=(maxlen,), dtype='float64')\n",
        "tag_input = Input(shape=(maxlen,), dtype='float64')\n",
        "char_input = Input(shape=(maxlen_char,), dtype='float64')\n",
        "doc_input = Input(shape=(1,), dtype='float64')\n",
        "\n",
        "embedding_layer_word = Embedding(max_words,embed_word_dim,weights=[embedding_word_matrix],input_length=maxlen,trainable=False)(word_input)\n",
        "embedding_layer_tag = Embedding(max_words,embed_tag_dim,weights=[embedding_tag_matrix],input_length=maxlen,trainable=True)(tag_input)\n",
        "embedding_layer_char = Embedding(max_words,embed_char_dim,weights=[embedding_char_matrix],input_length=maxlen_char,trainable=False)(char_input)\n",
        "embedding_layer_doc = Embedding(max_words,embed_doc_dim,weights=[embedding_doc_matrix],input_length=1,trainable=False)(doc_input)\n",
        "\n",
        "cnn0 = Convolution1D(256, 3, padding='same', strides = 1)(embedding_layer_word)\n",
        "cnn0 = BatchNormalization()(cnn0)\n",
        "cnn0 = Activation(\"relu\")(cnn0)\n",
        "cnn0 = MaxPooling1D(pool_size=4)(cnn0)\n",
        "cnn0 = Dropout(0.3)(cnn0)\n",
        "cnn0 = Flatten()(cnn0)\n",
        "cnn0 = Dense(16)(cnn0)\n",
        "\n",
        "cnn1 = Convolution1D(256, 3, padding='same', strides = 1)(embedding_layer_tag)\n",
        "cnn1 = BatchNormalization()(cnn1)\n",
        "cnn1 = Activation(\"relu\")(cnn1)\n",
        "cnn1 = MaxPooling1D(pool_size=4)(cnn1)\n",
        "cnn1 = Dropout(0.3)(cnn1)\n",
        "cnn1 = Flatten()(cnn1)\n",
        "cnn1 = Dense(16)(cnn1)\n",
        "\n",
        "cnn2 = Convolution1D(256, 3, padding='same', strides = 1)(embedding_layer_char)\n",
        "cnn2 = BatchNormalization()(cnn2)\n",
        "cnn2 = Activation(\"relu\")(cnn2)\n",
        "cnn2 = MaxPooling1D(pool_size=4)(cnn2)\n",
        "cnn2 = Dropout(0.3)(cnn2)\n",
        "cnn2 = Flatten()(cnn2)\n",
        "cnn2 = Dense(16)(cnn2)\n",
        "\n",
        "cnn3 = Convolution1D(256, 3, padding='same', strides = 1)(embedding_layer_doc)\n",
        "cnn3 = BatchNormalization()(cnn3)\n",
        "cnn3 = Activation(\"relu\")(cnn3)\n",
        "cnn3 = MaxPooling1D(pool_size=1)(cnn3)\n",
        "cnn3 = Dropout(0.3)(cnn3)\n",
        "cnn3 = Flatten()(cnn3)\n",
        "cnn3 = Dense(16)(cnn3)\n",
        "\n",
        "con = concatenate([cnn0,cnn1,cnn2,cnn3], axis=-1)\n",
        "print(con)\n",
        "main_output = Dense(1, activation='sigmoid')(con)###cnn0\n",
        "print(main_output)\n",
        "model = Model(inputs = [word_input,tag_input,char_input,doc_input], outputs = main_output)\n",
        "# model = Model(inputs = [word_input], outputs = main_output) ###only word2vec\n",
        "# model.summary()"
      ],
      "execution_count": null,
      "outputs": [
        {
          "output_type": "stream",
          "text": [
            "Using TensorFlow backend.\n"
          ],
          "name": "stderr"
        },
        {
          "output_type": "stream",
          "text": [
            "Tensor(\"concatenate/Identity:0\", shape=(None, 64), dtype=float32)\n",
            "Tensor(\"dense_4/Identity:0\", shape=(None, 1), dtype=float32)\n"
          ],
          "name": "stdout"
        }
      ]
    },
    {
      "cell_type": "code",
      "metadata": {
        "id": "ya80AABcTbt-",
        "colab": {
          "base_uri": "https://localhost:8080/",
          "height": 453
        },
        "outputId": "94b48d01-4de4-431c-d77e-2328d7be0c26"
      },
      "source": [
        "model.compile(loss='binary_crossentropy',\n",
        "              optimizer='adam',\n",
        "              metrics=['accuracy'])\n",
        "\n",
        "# Define the Keras TensorBoard callback.\n",
        "# logdir=\"logs/fit/\" + datetime.now().strftime(\"%Y%m%d-%H%M%S\")\n",
        "# tensorboard_callback = keras.callbacks.TensorBoard(log_dir=logdir)\n",
        "\n",
        "history = model.fit([x_train_w,x_train_t,x_train_c,x_train_d],y_train_w,\n",
        "           batch_size=64,\n",
        "           epochs=12,\n",
        "          #  shuffle=False,\n",
        "          #  verbose=1,\n",
        "          #  callbacks=[tensorboard_callback],\n",
        "           validation_data=([x_valid_w,x_valid_t,x_valid_c,x_valid_d], y_valid_w))\n",
        "\n",
        "# history = model.fit([x_train_w],y_train_w,batch_size=64,epochs=12,#callbacks=[tensorboard_callback],\n",
        "#            validation_data=([x_valid_w], y_valid_w)) ###only word2vec"
      ],
      "execution_count": null,
      "outputs": [
        {
          "output_type": "stream",
          "text": [
            "Epoch 1/12\n",
            "91/91 [==============================] - 10s 114ms/step - loss: 2.6012 - accuracy: 0.6798 - val_loss: 0.3250 - val_accuracy: 0.8662\n",
            "Epoch 2/12\n",
            "91/91 [==============================] - 10s 104ms/step - loss: 0.3662 - accuracy: 0.8719 - val_loss: 0.3342 - val_accuracy: 0.8600\n",
            "Epoch 3/12\n",
            "91/91 [==============================] - 10s 104ms/step - loss: 0.2796 - accuracy: 0.9061 - val_loss: 0.2092 - val_accuracy: 0.9172\n",
            "Epoch 4/12\n",
            "91/91 [==============================] - 9s 103ms/step - loss: 0.1919 - accuracy: 0.9390 - val_loss: 0.4113 - val_accuracy: 0.9000\n",
            "Epoch 5/12\n",
            "91/91 [==============================] - 10s 105ms/step - loss: 0.0954 - accuracy: 0.9657 - val_loss: 0.2606 - val_accuracy: 0.9324\n",
            "Epoch 6/12\n",
            "91/91 [==============================] - 9s 103ms/step - loss: 0.0923 - accuracy: 0.9681 - val_loss: 0.4913 - val_accuracy: 0.8821\n",
            "Epoch 7/12\n",
            "91/91 [==============================] - 10s 105ms/step - loss: 0.0912 - accuracy: 0.9697 - val_loss: 0.2205 - val_accuracy: 0.9359\n",
            "Epoch 8/12\n",
            "91/91 [==============================] - 9s 104ms/step - loss: 0.0531 - accuracy: 0.9841 - val_loss: 0.5390 - val_accuracy: 0.8814\n",
            "Epoch 9/12\n",
            "91/91 [==============================] - 9s 103ms/step - loss: 0.1807 - accuracy: 0.9490 - val_loss: 0.5780 - val_accuracy: 0.8745\n",
            "Epoch 10/12\n",
            "91/91 [==============================] - 9s 104ms/step - loss: 0.0868 - accuracy: 0.9748 - val_loss: 0.2605 - val_accuracy: 0.9317\n",
            "Epoch 11/12\n",
            "91/91 [==============================] - 9s 104ms/step - loss: 0.0806 - accuracy: 0.9788 - val_loss: 0.3198 - val_accuracy: 0.9290\n",
            "Epoch 12/12\n",
            "91/91 [==============================] - 9s 104ms/step - loss: 0.0856 - accuracy: 0.9745 - val_loss: 0.8052 - val_accuracy: 0.8738\n"
          ],
          "name": "stdout"
        }
      ]
    },
    {
      "cell_type": "code",
      "metadata": {
        "id": "Ozl0BMJM9iWx"
      },
      "source": [
        "# %tensorboard --logdir logs"
      ],
      "execution_count": null,
      "outputs": []
    },
    {
      "cell_type": "code",
      "metadata": {
        "id": "M7q6FP62Tbq5",
        "colab": {
          "base_uri": "https://localhost:8080/",
          "height": 52
        },
        "outputId": "2f20d0a5-ccb9-4cc2-809b-51e4923a6f99"
      },
      "source": [
        "model.evaluate([x_test_w, x_test_t, x_test_c, x_test_d], y_test_w)\n",
        "# model.evaluate([x_test_w], y_test_w) ###only word2vec"
      ],
      "execution_count": null,
      "outputs": [
        {
          "output_type": "stream",
          "text": [
            "57/57 [==============================] - 1s 18ms/step - loss: 0.7047 - accuracy: 0.8760\n"
          ],
          "name": "stdout"
        },
        {
          "output_type": "execute_result",
          "data": {
            "text/plain": [
              "[0.7046954035758972, 0.8759647011756897]"
            ]
          },
          "metadata": {
            "tags": []
          },
          "execution_count": 29
        }
      ]
    },
    {
      "cell_type": "code",
      "metadata": {
        "id": "ik_DGi5l_ikU",
        "colab": {
          "base_uri": "https://localhost:8080/",
          "height": 35
        },
        "outputId": "9fbe39b6-ad71-491e-a7fd-df1c7b6d2ac8"
      },
      "source": [
        "y_pred = model.predict([x_test_w, x_test_t, x_test_c, x_test_d], batch_size=32, verbose=1)\n",
        "# y_pred = model.predict([x_test_w], batch_size=64, verbose=1) ###only word2vec"
      ],
      "execution_count": null,
      "outputs": [
        {
          "output_type": "stream",
          "text": [
            "57/57 [==============================] - 1s 15ms/step\n"
          ],
          "name": "stdout"
        }
      ]
    },
    {
      "cell_type": "code",
      "metadata": {
        "id": "GNWDSwxNsZnU",
        "colab": {
          "base_uri": "https://localhost:8080/",
          "height": 173
        },
        "outputId": "dd9843a4-f8ba-42de-87e9-5e80ec39d4cb"
      },
      "source": [
        "from sklearn.metrics import classification_report\n",
        "def eval(pred):\n",
        "  lst = []\n",
        "  for item in pred:\n",
        "    if item>=0.5:\n",
        "      lst.append(1)\n",
        "    else:\n",
        "      lst.append(0)\n",
        "  res = np.array(lst)\n",
        "  return res\n",
        "\n",
        "# y_pred = model.predict([x_test_w, x_test_t, x_test_c, x_test_d], batch_size=64, verbose=1)\n",
        "y_pred_c = eval(y_pred)\n",
        "print(classification_report(y_test_c, y_pred_c,digits=4))"
      ],
      "execution_count": null,
      "outputs": [
        {
          "output_type": "stream",
          "text": [
            "              precision    recall  f1-score   support\n",
            "\n",
            "           0     0.9858    0.7637    0.8607       910\n",
            "           1     0.8061    0.9889    0.8882       904\n",
            "\n",
            "    accuracy                         0.8760      1814\n",
            "   macro avg     0.8960    0.8763    0.8745      1814\n",
            "weighted avg     0.8963    0.8760    0.8744      1814\n",
            "\n"
          ],
          "name": "stdout"
        }
      ]
    },
    {
      "cell_type": "code",
      "metadata": {
        "id": "WZUIByqDmmsm"
      },
      "source": [
        "from keras.models import load_model\n",
        "model.save('./model/model_ep1_content.h5')  # creates a HDF5 file 'my_model.h5'\n",
        "\n",
        "# identical to the previous one\n",
        "# model = load_model('./model/model_ep1.h5')"
      ],
      "execution_count": null,
      "outputs": []
    },
    {
      "cell_type": "code",
      "metadata": {
        "id": "1UEv8bjLXKSR"
      },
      "source": [
        "from tensorflow.keras.models import load_model\n",
        "model = load_model('./model/model_ep1.h5')"
      ],
      "execution_count": null,
      "outputs": []
    },
    {
      "cell_type": "code",
      "metadata": {
        "id": "Mt2i7wL9Tbk3"
      },
      "source": [
        ""
      ],
      "execution_count": null,
      "outputs": []
    }
  ]
}